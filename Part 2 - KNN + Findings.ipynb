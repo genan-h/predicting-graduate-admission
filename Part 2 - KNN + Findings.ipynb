{
 "cells": [
  {
   "cell_type": "markdown",
   "metadata": {},
   "source": []
  },
  {
   "cell_type": "markdown",
   "metadata": {},
   "source": [
    "# K Nearest Neighbours (KNN) Implementation\n",
    "\n"
   ]
  },
  {
   "cell_type": "code",
   "execution_count": null,
   "metadata": {},
   "outputs": [],
   "source": [
    "\n"
   ]
  },
  {
   "cell_type": "markdown",
   "metadata": {},
   "source": [
    "### Data Exploration and Preparation\n"
   ]
  },
  {
   "cell_type": "code",
   "execution_count": 1,
   "metadata": {},
   "outputs": [
    {
     "name": "stdout",
     "output_type": "stream",
     "text": [
      "'data.frame':\t400 obs. of  4 variables:\n",
      " $ admit: int  0 1 1 1 0 1 1 0 1 0 ...\n",
      " $ gre  : int  380 660 800 640 520 760 560 400 540 700 ...\n",
      " $ gpa  : num  3.61 3.67 4 3.19 2.93 3 2.98 3.08 3.39 3.92 ...\n",
      " $ rank : int  3 3 1 4 4 2 1 2 3 2 ...\n"
     ]
    },
    {
     "data": {
      "text/html": [
       "<table>\n",
       "<caption>A data.frame: 6 × 4</caption>\n",
       "<thead>\n",
       "\t<tr><th></th><th scope=col>admit</th><th scope=col>gre</th><th scope=col>gpa</th><th scope=col>rank</th></tr>\n",
       "\t<tr><th></th><th scope=col>&lt;int&gt;</th><th scope=col>&lt;int&gt;</th><th scope=col>&lt;dbl&gt;</th><th scope=col>&lt;int&gt;</th></tr>\n",
       "</thead>\n",
       "<tbody>\n",
       "\t<tr><th scope=row>1</th><td>0</td><td>380</td><td>3.61</td><td>3</td></tr>\n",
       "\t<tr><th scope=row>2</th><td>1</td><td>660</td><td>3.67</td><td>3</td></tr>\n",
       "\t<tr><th scope=row>3</th><td>1</td><td>800</td><td>4.00</td><td>1</td></tr>\n",
       "\t<tr><th scope=row>4</th><td>1</td><td>640</td><td>3.19</td><td>4</td></tr>\n",
       "\t<tr><th scope=row>5</th><td>0</td><td>520</td><td>2.93</td><td>4</td></tr>\n",
       "\t<tr><th scope=row>6</th><td>1</td><td>760</td><td>3.00</td><td>2</td></tr>\n",
       "</tbody>\n",
       "</table>\n"
      ],
      "text/latex": [
       "A data.frame: 6 × 4\n",
       "\\begin{tabular}{r|llll}\n",
       "  & admit & gre & gpa & rank\\\\\n",
       "  & <int> & <int> & <dbl> & <int>\\\\\n",
       "\\hline\n",
       "\t1 & 0 & 380 & 3.61 & 3\\\\\n",
       "\t2 & 1 & 660 & 3.67 & 3\\\\\n",
       "\t3 & 1 & 800 & 4.00 & 1\\\\\n",
       "\t4 & 1 & 640 & 3.19 & 4\\\\\n",
       "\t5 & 0 & 520 & 2.93 & 4\\\\\n",
       "\t6 & 1 & 760 & 3.00 & 2\\\\\n",
       "\\end{tabular}\n"
      ],
      "text/markdown": [
       "\n",
       "A data.frame: 6 × 4\n",
       "\n",
       "| <!--/--> | admit &lt;int&gt; | gre &lt;int&gt; | gpa &lt;dbl&gt; | rank &lt;int&gt; |\n",
       "|---|---|---|---|---|\n",
       "| 1 | 0 | 380 | 3.61 | 3 |\n",
       "| 2 | 1 | 660 | 3.67 | 3 |\n",
       "| 3 | 1 | 800 | 4.00 | 1 |\n",
       "| 4 | 1 | 640 | 3.19 | 4 |\n",
       "| 5 | 0 | 520 | 2.93 | 4 |\n",
       "| 6 | 1 | 760 | 3.00 | 2 |\n",
       "\n"
      ],
      "text/plain": [
       "  admit gre gpa  rank\n",
       "1 0     380 3.61 3   \n",
       "2 1     660 3.67 3   \n",
       "3 1     800 4.00 1   \n",
       "4 1     640 3.19 4   \n",
       "5 0     520 2.93 4   \n",
       "6 1     760 3.00 2   "
      ]
     },
     "metadata": {},
     "output_type": "display_data"
    },
    {
     "data": {
      "text/plain": [
       "     admit             gre             gpa             rank      \n",
       " Min.   :0.0000   Min.   :220.0   Min.   :2.260   Min.   :1.000  \n",
       " 1st Qu.:0.0000   1st Qu.:520.0   1st Qu.:3.130   1st Qu.:2.000  \n",
       " Median :0.0000   Median :580.0   Median :3.395   Median :2.000  \n",
       " Mean   :0.3175   Mean   :587.7   Mean   :3.390   Mean   :2.485  \n",
       " 3rd Qu.:1.0000   3rd Qu.:660.0   3rd Qu.:3.670   3rd Qu.:3.000  \n",
       " Max.   :1.0000   Max.   :800.0   Max.   :4.000   Max.   :4.000  "
      ]
     },
     "metadata": {},
     "output_type": "display_data"
    }
   ],
   "source": [
    "# import and explore dataset\n",
    "\n",
    "applc <- read.csv(\"un_applic_ binary.csv\", header=TRUE)\n",
    "str(applc)\n",
    "head(applc)\n",
    "summary(applc)"
   ]
  },
  {
   "cell_type": "code",
   "execution_count": 2,
   "metadata": {},
   "outputs": [
    {
     "name": "stdout",
     "output_type": "stream",
     "text": [
      "'data.frame':\t400 obs. of  4 variables:\n",
      " $ admit: Factor w/ 2 levels \"0\",\"1\": 1 2 2 2 1 2 2 1 2 1 ...\n",
      " $ gre  : int  380 660 800 640 520 760 560 400 540 700 ...\n",
      " $ gpa  : num  3.61 3.67 4 3.19 2.93 3 2.98 3.08 3.39 3.92 ...\n",
      " $ rank : int  3 3 1 4 4 2 1 2 3 2 ...\n"
     ]
    }
   ],
   "source": [
    "# change 'admit' to a factor variable\n",
    "\n",
    "applc$admit <- as.factor(applc$admit)\n",
    "str(applc)"
   ]
  },
  {
   "cell_type": "code",
   "execution_count": 3,
   "metadata": {},
   "outputs": [
    {
     "data": {
      "text/html": [
       "<table>\n",
       "<caption>A data.frame: 6 × 4</caption>\n",
       "<thead>\n",
       "\t<tr><th></th><th scope=col>admit</th><th scope=col>gre</th><th scope=col>gpa</th><th scope=col>rank</th></tr>\n",
       "\t<tr><th></th><th scope=col>&lt;fct&gt;</th><th scope=col>&lt;dbl&gt;</th><th scope=col>&lt;dbl&gt;</th><th scope=col>&lt;dbl&gt;</th></tr>\n",
       "</thead>\n",
       "<tbody>\n",
       "\t<tr><th scope=row>1</th><td>0</td><td>0.2758621</td><td>0.7758621</td><td>0.6666667</td></tr>\n",
       "\t<tr><th scope=row>2</th><td>1</td><td>0.7586207</td><td>0.8103448</td><td>0.6666667</td></tr>\n",
       "\t<tr><th scope=row>3</th><td>1</td><td>1.0000000</td><td>1.0000000</td><td>0.0000000</td></tr>\n",
       "\t<tr><th scope=row>4</th><td>1</td><td>0.7241379</td><td>0.5344828</td><td>1.0000000</td></tr>\n",
       "\t<tr><th scope=row>5</th><td>0</td><td>0.5172414</td><td>0.3850575</td><td>1.0000000</td></tr>\n",
       "\t<tr><th scope=row>6</th><td>1</td><td>0.9310345</td><td>0.4252874</td><td>0.3333333</td></tr>\n",
       "</tbody>\n",
       "</table>\n"
      ],
      "text/latex": [
       "A data.frame: 6 × 4\n",
       "\\begin{tabular}{r|llll}\n",
       "  & admit & gre & gpa & rank\\\\\n",
       "  & <fct> & <dbl> & <dbl> & <dbl>\\\\\n",
       "\\hline\n",
       "\t1 & 0 & 0.2758621 & 0.7758621 & 0.6666667\\\\\n",
       "\t2 & 1 & 0.7586207 & 0.8103448 & 0.6666667\\\\\n",
       "\t3 & 1 & 1.0000000 & 1.0000000 & 0.0000000\\\\\n",
       "\t4 & 1 & 0.7241379 & 0.5344828 & 1.0000000\\\\\n",
       "\t5 & 0 & 0.5172414 & 0.3850575 & 1.0000000\\\\\n",
       "\t6 & 1 & 0.9310345 & 0.4252874 & 0.3333333\\\\\n",
       "\\end{tabular}\n"
      ],
      "text/markdown": [
       "\n",
       "A data.frame: 6 × 4\n",
       "\n",
       "| <!--/--> | admit &lt;fct&gt; | gre &lt;dbl&gt; | gpa &lt;dbl&gt; | rank &lt;dbl&gt; |\n",
       "|---|---|---|---|---|\n",
       "| 1 | 0 | 0.2758621 | 0.7758621 | 0.6666667 |\n",
       "| 2 | 1 | 0.7586207 | 0.8103448 | 0.6666667 |\n",
       "| 3 | 1 | 1.0000000 | 1.0000000 | 0.0000000 |\n",
       "| 4 | 1 | 0.7241379 | 0.5344828 | 1.0000000 |\n",
       "| 5 | 0 | 0.5172414 | 0.3850575 | 1.0000000 |\n",
       "| 6 | 1 | 0.9310345 | 0.4252874 | 0.3333333 |\n",
       "\n"
      ],
      "text/plain": [
       "  admit gre       gpa       rank     \n",
       "1 0     0.2758621 0.7758621 0.6666667\n",
       "2 1     0.7586207 0.8103448 0.6666667\n",
       "3 1     1.0000000 1.0000000 0.0000000\n",
       "4 1     0.7241379 0.5344828 1.0000000\n",
       "5 0     0.5172414 0.3850575 1.0000000\n",
       "6 1     0.9310345 0.4252874 0.3333333"
      ]
     },
     "metadata": {},
     "output_type": "display_data"
    }
   ],
   "source": [
    "# Normalise independent variables \n",
    "\n",
    "normalize <- function(x) {\n",
    "return ((x - min(x)) / (max(x) - min(x))) }\n",
    "\n",
    "applc$gre <- normalize(applc$gre)\n",
    "applc$gpa <- normalize(applc$gpa)\n",
    "applc$rank <- normalize(applc$rank)\n",
    "\n",
    "# look at normalised variables\n",
    "\n",
    "head(applc)"
   ]
  },
  {
   "cell_type": "code",
   "execution_count": 4,
   "metadata": {},
   "outputs": [],
   "source": [
    "## split data into train and test (80%, 20%)\n",
    "# Total number of rows in the data\n",
    "\n",
    "n <- nrow(applc)"
   ]
  },
  {
   "cell_type": "code",
   "execution_count": 5,
   "metadata": {},
   "outputs": [
    {
     "name": "stdout",
     "output_type": "stream",
     "text": [
      "'data.frame':\t320 obs. of  4 variables:\n",
      " $ admit: Factor w/ 2 levels \"0\",\"1\": 1 1 2 1 1 1 1 1 1 2 ...\n",
      " $ gre  : num  0.69 0.828 0.655 0.621 0.828 ...\n",
      " $ gpa  : num  0.615 0.471 0.695 0.69 0.839 ...\n",
      " $ rank : num  0.667 0.333 0.333 1 0.333 ...\n",
      "'data.frame':\t80 obs. of  4 variables:\n",
      " $ admit: Factor w/ 2 levels \"0\",\"1\": 1 2 2 2 1 1 2 1 1 2 ...\n",
      " $ gre  : num  0.276 1 0.931 0.828 0.966 ...\n",
      " $ gpa  : num  0.776 1 0.425 1 0.925 ...\n",
      " $ rank : num  0.667 0 0.333 0 1 ...\n"
     ]
    }
   ],
   "source": [
    "# Number of rows for the training set (80% of the dataset)\n",
    "n_train <- round(0.80 * n) \n",
    "\n",
    "# Create a vector of indices (80% random sample)\n",
    "\n",
    "set.seed(123)\n",
    "train_indices <- sample(1:n, n_train)\n",
    "\n",
    "# Subset the data to training indices only, to create train set\n",
    "applc_train <- applc[train_indices, ]  \n",
    "  \n",
    "# Exclude the training indices, to create the test set (20% of the dataset)\n",
    "applc_test <- applc[-train_indices, ]\n",
    "\n",
    "\n",
    "str(applc_train)\n",
    "str(applc_test)"
   ]
  },
  {
   "cell_type": "code",
   "execution_count": 7,
   "metadata": {},
   "outputs": [
    {
     "name": "stderr",
     "output_type": "stream",
     "text": [
      "Installing package into ‘/home/jupyter/R/x86_64-pc-linux-gnu-library/3.6’\n",
      "(as ‘lib’ is unspecified)\n",
      "\n"
     ]
    },
    {
     "data": {
      "text/plain": [
       "\n",
       "  0   1 \n",
       "167 153 "
      ]
     },
     "metadata": {},
     "output_type": "display_data"
    }
   ],
   "source": [
    "# use bothsampling method to create balanced classes in target (using train data)\n",
    "\n",
    "#install.packages(\"ROSE\")\n",
    "library(ROSE)\n",
    "\n",
    "boths <- ovun.sample(admit~., data = applc_train, method=\"both\",\n",
    "                     p = 0.5,\n",
    "                     seed = 123,\n",
    "                     N = 320)$data\n",
    "\n",
    "# look at the balanced classes in target \"admit\" (train data)\n",
    "\n",
    "table(boths$admit)"
   ]
  },
  {
   "cell_type": "markdown",
   "metadata": {},
   "source": [
    "### Building and Training the KNN Model\n"
   ]
  },
  {
   "cell_type": "code",
   "execution_count": 8,
   "metadata": {},
   "outputs": [],
   "source": [
    "library(lattice)\n",
    "library(ggplot2)"
   ]
  },
  {
   "cell_type": "code",
   "execution_count": 9,
   "metadata": {},
   "outputs": [],
   "source": [
    "library(caret)\n",
    "library(e1071)"
   ]
  },
  {
   "cell_type": "code",
   "execution_count": 10,
   "metadata": {},
   "outputs": [
    {
     "name": "stdout",
     "output_type": "stream",
     "text": [
      "k-Nearest Neighbors \n",
      "\n",
      "320 samples\n",
      "  3 predictor\n",
      "  2 classes: '0', '1' \n",
      "\n",
      "No pre-processing\n",
      "Resampling: Cross-Validated (10 fold, repeated 5 times) \n",
      "Summary of sample sizes: 288, 289, 288, 287, 288, 288, ... \n",
      "Resampling results across tuning parameters:\n",
      "\n",
      "  k   Accuracy   Kappa    \n",
      "   5  0.6203281  0.2438111\n",
      "   7  0.5917070  0.1846589\n",
      "   9  0.5874835  0.1761649\n",
      "  11  0.5944000  0.1886869\n",
      "  13  0.6021383  0.2007107\n",
      "  15  0.5826161  0.1615813\n",
      "  17  0.6003745  0.1994410\n",
      "  19  0.5982056  0.1940406\n",
      "  21  0.6133138  0.2239940\n",
      "  23  0.6120839  0.2218631\n",
      "  25  0.6140549  0.2253038\n",
      "  27  0.6084262  0.2143623\n",
      "  29  0.6183920  0.2340826\n",
      "  31  0.6213404  0.2397025\n",
      "  33  0.6145803  0.2269096\n",
      "  35  0.6137396  0.2240828\n",
      "  37  0.6306446  0.2588786\n",
      "  39  0.6370204  0.2724972\n",
      "  41  0.6302413  0.2588795\n",
      "  43  0.6413917  0.2815495\n",
      "\n",
      "Accuracy was used to select the optimal model using the largest value.\n",
      "The final value used for the model was k = 43.\n"
     ]
    },
    {
     "data": {
      "text/plain": [
       "            Length Class      Mode     \n",
       "learn       2      -none-     list     \n",
       "k           1      -none-     numeric  \n",
       "theDots     0      -none-     list     \n",
       "xNames      3      -none-     character\n",
       "problemType 1      -none-     character\n",
       "tuneValue   1      data.frame list     \n",
       "obsLevels   2      -none-     character\n",
       "param       0      -none-     list     "
      ]
     },
     "metadata": {},
     "output_type": "display_data"
    }
   ],
   "source": [
    "# specify \"trainControl\", and build KNN model using train set\n",
    "\n",
    "trControl <- trainControl(method = \"repeatedcv\",\n",
    "                          number = 10,\n",
    "                          repeats = 5)\n",
    "set.seed(222)\n",
    "knn_model <- train(admit ~ .,\n",
    "                     data = boths,\n",
    "                     method = 'knn',\n",
    "                     tuneLength = 20,\n",
    "                     trControl = trControl)\n",
    "\n",
    "print(knn_model)\n",
    "summary(knn_model)"
   ]
  },
  {
   "cell_type": "code",
   "execution_count": 14,
   "metadata": {},
   "outputs": [
    {
     "data": {
      "image/png": "[encoded data removed]",
      "text/plain": [
       "plot without title"
      ]
     },
     "metadata": {
      "image/png": {
       "height": 420,
       "width": 420
      },
      "text/plain": {
       "height": 420,
       "width": 420
      }
     },
     "output_type": "display_data"
    }
   ],
   "source": [
    "# plot the KNN model to visualise the impact of value of K on accuracy \n",
    "\n",
    "plot(knn_model)"
   ]
  },
  {
   "cell_type": "code",
   "execution_count": 17,
   "metadata": {},
   "outputs": [
    {
     "data": {
      "text/plain": [
       "ROC curve variable importance\n",
       "\n",
       "     Importance\n",
       "gpa      100.00\n",
       "gre       89.19\n",
       "rank       0.00"
      ]
     },
     "metadata": {},
     "output_type": "display_data"
    }
   ],
   "source": [
    "#find which variable was the best predictor in the KNN model\n",
    "\n",
    "varImp(knn_model)"
   ]
  },
  {
   "cell_type": "code",
   "execution_count": 18,
   "metadata": {},
   "outputs": [
    {
     "data": {
      "image/png": "[encoded data removed]",
      "text/plain": [
       "plot without title"
      ]
     },
     "metadata": {
      "image/png": {
       "height": 420,
       "width": 420
      },
      "text/plain": {
       "height": 420,
       "width": 420
      }
     },
     "output_type": "display_data"
    }
   ],
   "source": [
    "# plot ROC curve variable importance for KNN \n",
    "\n",
    "ROC <- varImp(knn_model)\n",
    "\n",
    "plot(ROC)"
   ]
  },
  {
   "cell_type": "markdown",
   "metadata": {},
   "source": [
    "### Testing and Evaluating the KNN Performance\n"
   ]
  },
  {
   "cell_type": "code",
   "execution_count": 11,
   "metadata": {},
   "outputs": [
    {
     "data": {
      "text/html": [
       "<table>\n",
       "<caption>A data.frame: 6 × 2</caption>\n",
       "<thead>\n",
       "\t<tr><th></th><th scope=col>0</th><th scope=col>1</th></tr>\n",
       "\t<tr><th></th><th scope=col>&lt;dbl&gt;</th><th scope=col>&lt;dbl&gt;</th></tr>\n",
       "</thead>\n",
       "<tbody>\n",
       "\t<tr><th scope=row>1</th><td>0.7209302</td><td>0.2790698</td></tr>\n",
       "\t<tr><th scope=row>2</th><td>0.3488372</td><td>0.6511628</td></tr>\n",
       "\t<tr><th scope=row>3</th><td>0.4651163</td><td>0.5348837</td></tr>\n",
       "\t<tr><th scope=row>4</th><td>0.2093023</td><td>0.7906977</td></tr>\n",
       "\t<tr><th scope=row>5</th><td>0.4418605</td><td>0.5581395</td></tr>\n",
       "\t<tr><th scope=row>6</th><td>0.8409091</td><td>0.1590909</td></tr>\n",
       "</tbody>\n",
       "</table>\n"
      ],
      "text/latex": [
       "A data.frame: 6 × 2\n",
       "\\begin{tabular}{r|ll}\n",
       "  & 0 & 1\\\\\n",
       "  & <dbl> & <dbl>\\\\\n",
       "\\hline\n",
       "\t1 & 0.7209302 & 0.2790698\\\\\n",
       "\t2 & 0.3488372 & 0.6511628\\\\\n",
       "\t3 & 0.4651163 & 0.5348837\\\\\n",
       "\t4 & 0.2093023 & 0.7906977\\\\\n",
       "\t5 & 0.4418605 & 0.5581395\\\\\n",
       "\t6 & 0.8409091 & 0.1590909\\\\\n",
       "\\end{tabular}\n"
      ],
      "text/markdown": [
       "\n",
       "A data.frame: 6 × 2\n",
       "\n",
       "| <!--/--> | 0 &lt;dbl&gt; | 1 &lt;dbl&gt; |\n",
       "|---|---|---|\n",
       "| 1 | 0.7209302 | 0.2790698 |\n",
       "| 2 | 0.3488372 | 0.6511628 |\n",
       "| 3 | 0.4651163 | 0.5348837 |\n",
       "| 4 | 0.2093023 | 0.7906977 |\n",
       "| 5 | 0.4418605 | 0.5581395 |\n",
       "| 6 | 0.8409091 | 0.1590909 |\n",
       "\n"
      ],
      "text/plain": [
       "  0         1        \n",
       "1 0.7209302 0.2790698\n",
       "2 0.3488372 0.6511628\n",
       "3 0.4651163 0.5348837\n",
       "4 0.2093023 0.7906977\n",
       "5 0.4418605 0.5581395\n",
       "6 0.8409091 0.1590909"
      ]
     },
     "metadata": {},
     "output_type": "display_data"
    }
   ],
   "source": [
    "# use the KNN model and test data to predict admission \"probability\"\n",
    "\n",
    "library(utils)\n",
    "\n",
    "KNN_pred_prob <- predict(knn_model, newdata = applc_test, type = \"prob\")\n",
    "\n",
    "head(KNN_pred_prob)"
   ]
  },
  {
   "cell_type": "code",
   "execution_count": 12,
   "metadata": {},
   "outputs": [
    {
     "name": "stderr",
     "output_type": "stream",
     "text": [
      "Installing package into ‘/home/jupyter/R/x86_64-pc-linux-gnu-library/3.6’\n",
      "(as ‘lib’ is unspecified)\n",
      "\n"
     ]
    }
   ],
   "source": [
    "#install.packages(\"ROCR\")\n",
    "library(ROCR)"
   ]
  },
  {
   "cell_type": "code",
   "execution_count": 13,
   "metadata": {},
   "outputs": [
    {
     "name": "stderr",
     "output_type": "stream",
     "text": [
      "Type 'citation(\"pROC\")' for a citation.\n",
      "\n",
      "\n",
      "Attaching package: ‘pROC’\n",
      "\n",
      "\n",
      "The following objects are masked from ‘package:stats’:\n",
      "\n",
      "    cov, smooth, var\n",
      "\n",
      "\n",
      "\n",
      "Attaching package: ‘Metrics’\n",
      "\n",
      "\n",
      "The following object is masked from ‘package:pROC’:\n",
      "\n",
      "    auc\n",
      "\n",
      "\n",
      "The following objects are masked from ‘package:caret’:\n",
      "\n",
      "    precision, recall\n",
      "\n",
      "\n"
     ]
    }
   ],
   "source": [
    "library(pROC)\n",
    "library(Metrics)"
   ]
  },
  {
   "cell_type": "code",
   "execution_count": 14,
   "metadata": {},
   "outputs": [
    {
     "name": "stdout",
     "output_type": "stream",
     "text": [
      "[1] \"KNN_model Test set AUC0.697177726926011\"\n"
     ]
    }
   ],
   "source": [
    "# Compute the AUC of KNN_model, using the preditions\n",
    "\n",
    "auc_knn_model <- auc(actual = applc_test$admit, predicted = KNN_pred_prob[,2])  \n",
    "\n",
    "# print AUC of KNN_model\n",
    "                         \n",
    "print(paste0(\"KNN_model Test set AUC\", auc_knn_model))"
   ]
  },
  {
   "cell_type": "code",
   "execution_count": 20,
   "metadata": {},
   "outputs": [
    {
     "name": "stderr",
     "output_type": "stream",
     "text": [
      "Installing package into ‘/home/jupyter/R/x86_64-pc-linux-gnu-library/3.6’\n",
      "(as ‘lib’ is unspecified)\n",
      "\n"
     ]
    }
   ],
   "source": [
    "#install.packages(\"caTools\")\n",
    "library(caTools)"
   ]
  },
  {
   "cell_type": "code",
   "execution_count": 21,
   "metadata": {},
   "outputs": [
    {
     "data": {
      "text/html": [
       "<table>\n",
       "<caption>A matrix: 1 × 1 of type dbl</caption>\n",
       "<tbody>\n",
       "\t<tr><th scope=row>0 vs. 1</th><td>0.6971777</td></tr>\n",
       "</tbody>\n",
       "</table>\n"
      ],
      "text/latex": [
       "A matrix: 1 × 1 of type dbl\n",
       "\\begin{tabular}{r|l}\n",
       "\t0 vs. 1 & 0.6971777\\\\\n",
       "\\end{tabular}\n"
      ],
      "text/markdown": [
       "\n",
       "A matrix: 1 × 1 of type dbl\n",
       "\n",
       "| 0 vs. 1 | 0.6971777 |\n",
       "\n"
      ],
      "text/plain": [
       "        [,1]     \n",
       "0 vs. 1 0.6971777"
      ]
     },
     "metadata": {},
     "output_type": "display_data"
    },
    {
     "data": {
      "image/png": "[encoded data removed]",
      "text/plain": [
       "Plot with title “ROC Curves”"
      ]
     },
     "metadata": {
      "image/png": {
       "height": 420,
       "width": 420
      },
      "text/plain": {
       "height": 420,
       "width": 420
      }
     },
     "output_type": "display_data"
    }
   ],
   "source": [
    "# Plot the KNN ROC curve using the predictions (probabilities)\n",
    "\n",
    "colAUC(KNN_pred_prob[,2], applc_test[[\"admit\"]], plotROC = TRUE)"
   ]
  },
  {
   "cell_type": "code",
   "execution_count": 93,
   "metadata": {},
   "outputs": [
    {
     "data": {
      "image/png": "[encoded data removed]",
      "text/plain": [
       "Plot with title “KNN Test Set ROC Curve”"
      ]
     },
     "metadata": {
      "image/png": {
       "height": 420,
       "width": 420
      },
      "text/plain": {
       "height": 420,
       "width": 420
      }
     },
     "output_type": "display_data"
    }
   ],
   "source": [
    "# Plot the KNN ROC curve with another function using the predictions (probabilities)\n",
    "\n",
    "pred <- prediction(KNN_pred_prob[,2], applc_test$admit)\n",
    "\n",
    "roc <- performance(pred, \"tpr\", \"fpr\")\n",
    "\n",
    "plot(roc, col = as.list(1), main = \"KNN Test Set ROC Curve\")"
   ]
  },
  {
   "cell_type": "code",
   "execution_count": 15,
   "metadata": {},
   "outputs": [
    {
     "name": "stdout",
     "output_type": "stream",
     "text": [
      " [1] 0 1 1 1 1 0 0 0 0 0 0 1 0 0 0 0 0 1 1 1 1 0 1 1 0 0 1 1 0 0 0 0 0 0 1 1 0 0\n",
      "[39] 0 0 1 1 0 0 1 0 1 0 0 0 1 1 0 1 0 1 1 0 0 1 1 1 0 0 0 0 0 0 0 0 0 0 1 1 1 1\n",
      "[77] 1 0 1 1\n",
      "Levels: 0 1\n"
     ]
    },
    {
     "data": {
      "text/html": [
       "80"
      ],
      "text/latex": [
       "80"
      ],
      "text/markdown": [
       "80"
      ],
      "text/plain": [
       "[1] 80"
      ]
     },
     "metadata": {},
     "output_type": "display_data"
    }
   ],
   "source": [
    "# use the KNN model and test data to predict admission \"class\"\n",
    "library(utils)\n",
    "\n",
    "KNN_pred <- predict(knn_model, newdata = applc_test)\n",
    "\n",
    "print(KNN_pred)\n",
    "length(KNN_pred)"
   ]
  },
  {
   "cell_type": "code",
   "execution_count": 110,
   "metadata": {},
   "outputs": [
    {
     "name": "stderr",
     "output_type": "stream",
     "text": [
      "Installing package into ‘/home/jupyter/R/x86_64-pc-linux-gnu-library/3.6’\n",
      "(as ‘lib’ is unspecified)\n",
      "\n"
     ]
    }
   ],
   "source": [
    "#install.packages('caret', dependencies = TRUE)\n",
    "library(caret)"
   ]
  },
  {
   "cell_type": "code",
   "execution_count": 111,
   "metadata": {},
   "outputs": [],
   "source": [
    "library(lattice)\n",
    "library(ggplot2)"
   ]
  },
  {
   "cell_type": "code",
   "execution_count": 112,
   "metadata": {},
   "outputs": [
    {
     "name": "stdout",
     "output_type": "stream",
     "text": [
      "Confusion Matrix and Statistics\n",
      "\n",
      "          Reference\n",
      "Prediction  0  1\n",
      "         0 37  9\n",
      "         1 20 14\n",
      "                                          \n",
      "               Accuracy : 0.6375          \n",
      "                 95% CI : (0.5224, 0.7421)\n",
      "    No Information Rate : 0.7125          \n",
      "    P-Value [Acc > NIR] : 0.94326         \n",
      "                                          \n",
      "                  Kappa : 0.2256          \n",
      "                                          \n",
      " Mcnemar's Test P-Value : 0.06332         \n",
      "                                          \n",
      "            Sensitivity : 0.6491          \n",
      "            Specificity : 0.6087          \n",
      "         Pos Pred Value : 0.8043          \n",
      "         Neg Pred Value : 0.4118          \n",
      "             Prevalence : 0.7125          \n",
      "         Detection Rate : 0.4625          \n",
      "   Detection Prevalence : 0.5750          \n",
      "      Balanced Accuracy : 0.6289          \n",
      "                                          \n",
      "       'Positive' Class : 0               \n",
      "                                          \n"
     ]
    }
   ],
   "source": [
    "# Measure KNN performance using the confusion matrix and the test set (convert to factor)\n",
    "\n",
    "cm <- confusionMatrix(data = KNN_pred,       \n",
    "                reference = applc_test$admit)\n",
    "\n",
    "print(cm)"
   ]
  },
  {
   "cell_type": "code",
   "execution_count": 113,
   "metadata": {},
   "outputs": [
    {
     "name": "stderr",
     "output_type": "stream",
     "text": [
      "\n",
      "Attaching package: ‘dplyr’\n",
      "\n",
      "\n",
      "The following objects are masked from ‘package:stats’:\n",
      "\n",
      "    filter, lag\n",
      "\n",
      "\n",
      "The following objects are masked from ‘package:base’:\n",
      "\n",
      "    intersect, setdiff, setequal, union\n",
      "\n",
      "\n"
     ]
    },
    {
     "data": {
      "image/png": "[encoded data removed]",
      "text/plain": [
       "plot without title"
      ]
     },
     "metadata": {
      "image/png": {
       "height": 420,
       "width": 420
      },
      "text/plain": {
       "height": 420,
       "width": 420
      }
     },
     "output_type": "display_data"
    }
   ],
   "source": [
    "# Plot the confusion Matrix for KNN performance\n",
    "\n",
    "library(dplyr)\n",
    "\n",
    "ggplot(as.data.frame(cm$table), aes(Prediction,sort(Reference,decreasing = F), fill= Freq)) +\n",
    "        geom_tile() + geom_text(aes(label=Freq)) +\n",
    "        scale_fill_gradient(low=\"white\", high=\"#009194\") +\n",
    "        labs(x = \"Prediction\",y = \"Reference\")"
   ]
  },
  {
   "cell_type": "code",
   "execution_count": null,
   "metadata": {},
   "outputs": [],
   "source": []
  },
  {
   "cell_type": "code",
   "execution_count": null,
   "metadata": {},
   "outputs": [],
   "source": [
    "\n"
   ]
  },
  {
   "cell_type": "markdown",
   "metadata": {},
   "source": [
    "\n",
    "## Evaluation of KNN vs. GBM Performance Using Different Measures\n",
    "\n"
   ]
  },
  {
   "cell_type": "code",
   "execution_count": null,
   "metadata": {},
   "outputs": [],
   "source": [
    "\n"
   ]
  },
  {
   "cell_type": "markdown",
   "metadata": {},
   "source": [
    "\n",
    "## Definition of Evaluation Measures\n",
    "\n",
    "\n",
    "#### >> CLASSIFICATION ACCURACY: percentage of correctly classified instances \n",
    "\n",
    "#### >> SENSITIVITY: percentage of positive classes (1 = Yes/Admitted) that are classified correctly\n",
    "\n",
    "#### >> SPECIFICITY: percentage of negative classes (o = No/Not Admitted) that are classified correctly\n",
    "\n",
    "#### >> AUC: a summary of the ROC curve, that measures the ability of a model to distinguish between the \n",
    "\n",
    "#### positive and negative classes (1.0 = perfectly predictive, 0.0 = not predictive)\n",
    "\n"
   ]
  },
  {
   "cell_type": "code",
   "execution_count": null,
   "metadata": {},
   "outputs": [],
   "source": [
    "\n"
   ]
  },
  {
   "attachments": {
    "image.png": {
     "image/png": "[encoded data removed]"
    }
   },
   "cell_type": "markdown",
   "metadata": {},
   "source": [
    "\n",
    "#### Measures from the Confusion Matrix and AUC (KNN vs. GBM)\n",
    "\n",
    "![image.png](attachment:image.png)\n",
    "\n",
    "\n",
    "\n",
    "\n",
    "\n",
    "\n",
    "\n",
    "\n",
    "#### Project Findings\n",
    "\n",
    "##### GBM performed better than KNN based on the overall classification accuracy measures \n",
    "\n",
    "##### GBM surpassed KNN in the percentage of positive classes (sensitivity) & the percentage of negative classes (specificity) that are classified correctly\n",
    "\n",
    "##### Both models were very close to each other in their ability to distinguish between the positive and negative classes (AUC) \n"
   ]
  },
  {
   "cell_type": "markdown",
   "metadata": {},
   "source": [
    "\n"
   ]
  }
 ],
 "metadata": {
  "kernelspec": {
   "display_name": "R",
   "language": "R",
   "name": "ir"
  },
  "language_info": {
   "codemirror_mode": "r",
   "file_extension": ".r",
   "mimetype": "text/x-r-source",
   "name": "R",
   "pygments_lexer": "r",
   "version": "3.6.2"
  }
 },
 "nbformat": 4,
 "nbformat_minor": 4
}
