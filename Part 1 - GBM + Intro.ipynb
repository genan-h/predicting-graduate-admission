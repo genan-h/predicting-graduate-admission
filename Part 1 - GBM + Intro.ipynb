{
 "cells": [
  {
   "cell_type": "markdown",
   "metadata": {},
   "source": [
    " \n",
    "\n",
    "# Predicting Graduate Admission: \n",
    "\n",
    "## KNN vs. GBM Model Performance\n",
    "\n",
    "\n",
    "#### Fall 2020\n",
    "\n",
    "#### Genan H \n"
   ]
  },
  {
   "cell_type": "markdown",
   "metadata": {},
   "source": [
    "\n"
   ]
  },
  {
   "cell_type": "markdown",
   "metadata": {},
   "source": [
    "\n",
    "## Project Goals\n",
    "\n",
    "### To examine and compare the performance of two models (KNN and GBM) in predicting admission to the graduate program \n",
    "\n",
    "### Models will be evaluated by measuring and comparing:\n",
    "\n",
    "####    > Their ability to correctly classify the instances in general (accuracy)\n",
    "\n",
    "####    > Their ability to distinguish positive classes from negative ones (auc)\n",
    "\n",
    "\n"
   ]
  },
  {
   "cell_type": "code",
   "execution_count": null,
   "metadata": {},
   "outputs": [],
   "source": [
    "\n",
    "\n"
   ]
  },
  {
   "cell_type": "markdown",
   "metadata": {},
   "source": [
    "\n",
    "## Problem Statement\n",
    "\n",
    "\n",
    "#### The project will study a graduate admission dataset and build two Machine Learning models, that\n",
    "\n",
    "#### predict whether an applicant will be admitted to the graduate program or not, based on information\n",
    "   \n",
    "#### from his application, including his GPA, GRE score and the ranking of his previous university\n",
    "\n",
    "\n"
   ]
  },
  {
   "cell_type": "code",
   "execution_count": null,
   "metadata": {},
   "outputs": [],
   "source": [
    "\n",
    "\n"
   ]
  },
  {
   "cell_type": "markdown",
   "metadata": {},
   "source": [
    "\n",
    "## Method & Procedure\n",
    "\n",
    "\n",
    "### Two supervised learning algorithms (KNN & GBM) will be implemented to solve this \n",
    "\n",
    "### binary classification problem \n",
    "\n",
    "\n",
    "### The project will be conducted in the following steps:\n",
    "\n",
    "\n",
    "#### >>    Data exploration and preparation\n",
    "\n",
    "#### >>    Building and training the models\n",
    "\n",
    "#### >>    Testing and evaluating the performance\n",
    "\n",
    "#### >>    Comparing models’ performance\n",
    "\n",
    "\n"
   ]
  },
  {
   "cell_type": "code",
   "execution_count": null,
   "metadata": {},
   "outputs": [],
   "source": [
    "\n",
    "\n"
   ]
  },
  {
   "cell_type": "markdown",
   "metadata": {},
   "source": [
    "\n",
    "# Gradient Boosting Machine (GBM) Algorithm\n",
    "\n",
    "\n",
    "\n",
    "### A tree-based ensemble method that involves growing multiple trees sequentially\n",
    "\n",
    "\n",
    "\n",
    "### Each tree is trained on a modified version of the original training set based on \n",
    "\n",
    "### information from the evaluation of preceding trees\n",
    "\n",
    "\n",
    "\n",
    "### The final prediction is a weighted sum of the predictions made by all the trees \n",
    "\n",
    "\n",
    "\n",
    "\n",
    "\n",
    "\n",
    "\n",
    "\n",
    "\n",
    "\n",
    "\n"
   ]
  },
  {
   "cell_type": "code",
   "execution_count": null,
   "metadata": {},
   "outputs": [],
   "source": [
    "\n",
    "\n"
   ]
  },
  {
   "cell_type": "markdown",
   "metadata": {},
   "source": [
    "\n",
    "# K Nearest Neighbours (KNN) Algorithm\n",
    "\n",
    "\n",
    "\n",
    "### Lazy algorithm that memorizes the training data rather than learning functions from it\n",
    "\n",
    "### The value of 'K' (number of Nearest Neighbours) is the core factor that affects the performance\n",
    "\n",
    "\n",
    "### Classifies a new data point, based on feature similarity (how similar the new point is to its neighbors)\n",
    "\n",
    "### Similarity is determined by calculating the distance between the new instance and its neighbours using the Euclidean or Manhattan distance\n",
    " \n",
    " \n",
    "\n",
    "\n",
    "\n"
   ]
  },
  {
   "cell_type": "code",
   "execution_count": null,
   "metadata": {},
   "outputs": [],
   "source": [
    "\n",
    "\n",
    "\n"
   ]
  },
  {
   "cell_type": "markdown",
   "metadata": {},
   "source": [
    "\n",
    "# Gradient Boosting Machine (GBM) Implementation\n",
    "\n",
    "\n",
    "\n"
   ]
  },
  {
   "cell_type": "code",
   "execution_count": null,
   "metadata": {},
   "outputs": [],
   "source": [
    "\n",
    "\n",
    "\n"
   ]
  },
  {
   "cell_type": "markdown",
   "metadata": {},
   "source": [
    "### Data Exploration and Preparation  \n",
    "\n"
   ]
  },
  {
   "cell_type": "code",
   "execution_count": 26,
   "metadata": {},
   "outputs": [
    {
     "name": "stdout",
     "output_type": "stream",
     "text": [
      "'data.frame':\t400 obs. of  4 variables:\n",
      " $ admit: int  0 1 1 1 0 1 1 0 1 0 ...\n",
      " $ gre  : int  380 660 800 640 520 760 560 400 540 700 ...\n",
      " $ gpa  : num  3.61 3.67 4 3.19 2.93 3 2.98 3.08 3.39 3.92 ...\n",
      " $ rank : int  3 3 1 4 4 2 1 2 3 2 ...\n"
     ]
    },
    {
     "data": {
      "text/html": [
       "<table>\n",
       "<caption>A data.frame: 6 × 4</caption>\n",
       "<thead>\n",
       "\t<tr><th></th><th scope=col>admit</th><th scope=col>gre</th><th scope=col>gpa</th><th scope=col>rank</th></tr>\n",
       "\t<tr><th></th><th scope=col>&lt;int&gt;</th><th scope=col>&lt;int&gt;</th><th scope=col>&lt;dbl&gt;</th><th scope=col>&lt;int&gt;</th></tr>\n",
       "</thead>\n",
       "<tbody>\n",
       "\t<tr><th scope=row>1</th><td>0</td><td>380</td><td>3.61</td><td>3</td></tr>\n",
       "\t<tr><th scope=row>2</th><td>1</td><td>660</td><td>3.67</td><td>3</td></tr>\n",
       "\t<tr><th scope=row>3</th><td>1</td><td>800</td><td>4.00</td><td>1</td></tr>\n",
       "\t<tr><th scope=row>4</th><td>1</td><td>640</td><td>3.19</td><td>4</td></tr>\n",
       "\t<tr><th scope=row>5</th><td>0</td><td>520</td><td>2.93</td><td>4</td></tr>\n",
       "\t<tr><th scope=row>6</th><td>1</td><td>760</td><td>3.00</td><td>2</td></tr>\n",
       "</tbody>\n",
       "</table>\n"
      ],
      "text/latex": [
       "A data.frame: 6 × 4\n",
       "\\begin{tabular}{r|llll}\n",
       "  & admit & gre & gpa & rank\\\\\n",
       "  & <int> & <int> & <dbl> & <int>\\\\\n",
       "\\hline\n",
       "\t1 & 0 & 380 & 3.61 & 3\\\\\n",
       "\t2 & 1 & 660 & 3.67 & 3\\\\\n",
       "\t3 & 1 & 800 & 4.00 & 1\\\\\n",
       "\t4 & 1 & 640 & 3.19 & 4\\\\\n",
       "\t5 & 0 & 520 & 2.93 & 4\\\\\n",
       "\t6 & 1 & 760 & 3.00 & 2\\\\\n",
       "\\end{tabular}\n"
      ],
      "text/markdown": [
       "\n",
       "A data.frame: 6 × 4\n",
       "\n",
       "| <!--/--> | admit &lt;int&gt; | gre &lt;int&gt; | gpa &lt;dbl&gt; | rank &lt;int&gt; |\n",
       "|---|---|---|---|---|\n",
       "| 1 | 0 | 380 | 3.61 | 3 |\n",
       "| 2 | 1 | 660 | 3.67 | 3 |\n",
       "| 3 | 1 | 800 | 4.00 | 1 |\n",
       "| 4 | 1 | 640 | 3.19 | 4 |\n",
       "| 5 | 0 | 520 | 2.93 | 4 |\n",
       "| 6 | 1 | 760 | 3.00 | 2 |\n",
       "\n"
      ],
      "text/plain": [
       "  admit gre gpa  rank\n",
       "1 0     380 3.61 3   \n",
       "2 1     660 3.67 3   \n",
       "3 1     800 4.00 1   \n",
       "4 1     640 3.19 4   \n",
       "5 0     520 2.93 4   \n",
       "6 1     760 3.00 2   "
      ]
     },
     "metadata": {},
     "output_type": "display_data"
    },
    {
     "data": {
      "text/plain": [
       "     admit             gre             gpa             rank      \n",
       " Min.   :0.0000   Min.   :220.0   Min.   :2.260   Min.   :1.000  \n",
       " 1st Qu.:0.0000   1st Qu.:520.0   1st Qu.:3.130   1st Qu.:2.000  \n",
       " Median :0.0000   Median :580.0   Median :3.395   Median :2.000  \n",
       " Mean   :0.3175   Mean   :587.7   Mean   :3.390   Mean   :2.485  \n",
       " 3rd Qu.:1.0000   3rd Qu.:660.0   3rd Qu.:3.670   3rd Qu.:3.000  \n",
       " Max.   :1.0000   Max.   :800.0   Max.   :4.000   Max.   :4.000  "
      ]
     },
     "metadata": {},
     "output_type": "display_data"
    }
   ],
   "source": [
    "# import and explore dataset\n",
    "\n",
    "applc <- read.csv(\"un_applic_ binary.csv\", header=TRUE)\n",
    "str(applc)\n",
    "head(applc)\n",
    "summary(applc)"
   ]
  },
  {
   "cell_type": "markdown",
   "metadata": {},
   "source": [
    "\n",
    "For binary classification, gbm() requires the response to be encoded as 0/1 (numeric), \n",
    "so we will keep the 0/1 numeric response column and will not convert it to a factor\n",
    "\n"
   ]
  },
  {
   "cell_type": "code",
   "execution_count": 2,
   "metadata": {},
   "outputs": [
    {
     "data": {
      "text/plain": [
       "\n",
       "  0   1 \n",
       "273 127 "
      ]
     },
     "metadata": {},
     "output_type": "display_data"
    }
   ],
   "source": [
    "# check for class balance in the target \"admit\" for the whole data \n",
    "\n",
    "table(applc$admit)"
   ]
  },
  {
   "cell_type": "code",
   "execution_count": 27,
   "metadata": {},
   "outputs": [
    {
     "data": {
      "text/html": [
       "<table>\n",
       "<caption>A data.frame: 6 × 4</caption>\n",
       "<thead>\n",
       "\t<tr><th></th><th scope=col>admit</th><th scope=col>gre</th><th scope=col>gpa</th><th scope=col>rank</th></tr>\n",
       "\t<tr><th></th><th scope=col>&lt;int&gt;</th><th scope=col>&lt;dbl&gt;</th><th scope=col>&lt;dbl&gt;</th><th scope=col>&lt;dbl&gt;</th></tr>\n",
       "</thead>\n",
       "<tbody>\n",
       "\t<tr><th scope=row>1</th><td>0</td><td>0.2758621</td><td>0.7758621</td><td>0.6666667</td></tr>\n",
       "\t<tr><th scope=row>2</th><td>1</td><td>0.7586207</td><td>0.8103448</td><td>0.6666667</td></tr>\n",
       "\t<tr><th scope=row>3</th><td>1</td><td>1.0000000</td><td>1.0000000</td><td>0.0000000</td></tr>\n",
       "\t<tr><th scope=row>4</th><td>1</td><td>0.7241379</td><td>0.5344828</td><td>1.0000000</td></tr>\n",
       "\t<tr><th scope=row>5</th><td>0</td><td>0.5172414</td><td>0.3850575</td><td>1.0000000</td></tr>\n",
       "\t<tr><th scope=row>6</th><td>1</td><td>0.9310345</td><td>0.4252874</td><td>0.3333333</td></tr>\n",
       "</tbody>\n",
       "</table>\n"
      ],
      "text/latex": [
       "A data.frame: 6 × 4\n",
       "\\begin{tabular}{r|llll}\n",
       "  & admit & gre & gpa & rank\\\\\n",
       "  & <int> & <dbl> & <dbl> & <dbl>\\\\\n",
       "\\hline\n",
       "\t1 & 0 & 0.2758621 & 0.7758621 & 0.6666667\\\\\n",
       "\t2 & 1 & 0.7586207 & 0.8103448 & 0.6666667\\\\\n",
       "\t3 & 1 & 1.0000000 & 1.0000000 & 0.0000000\\\\\n",
       "\t4 & 1 & 0.7241379 & 0.5344828 & 1.0000000\\\\\n",
       "\t5 & 0 & 0.5172414 & 0.3850575 & 1.0000000\\\\\n",
       "\t6 & 1 & 0.9310345 & 0.4252874 & 0.3333333\\\\\n",
       "\\end{tabular}\n"
      ],
      "text/markdown": [
       "\n",
       "A data.frame: 6 × 4\n",
       "\n",
       "| <!--/--> | admit &lt;int&gt; | gre &lt;dbl&gt; | gpa &lt;dbl&gt; | rank &lt;dbl&gt; |\n",
       "|---|---|---|---|---|\n",
       "| 1 | 0 | 0.2758621 | 0.7758621 | 0.6666667 |\n",
       "| 2 | 1 | 0.7586207 | 0.8103448 | 0.6666667 |\n",
       "| 3 | 1 | 1.0000000 | 1.0000000 | 0.0000000 |\n",
       "| 4 | 1 | 0.7241379 | 0.5344828 | 1.0000000 |\n",
       "| 5 | 0 | 0.5172414 | 0.3850575 | 1.0000000 |\n",
       "| 6 | 1 | 0.9310345 | 0.4252874 | 0.3333333 |\n",
       "\n"
      ],
      "text/plain": [
       "  admit gre       gpa       rank     \n",
       "1 0     0.2758621 0.7758621 0.6666667\n",
       "2 1     0.7586207 0.8103448 0.6666667\n",
       "3 1     1.0000000 1.0000000 0.0000000\n",
       "4 1     0.7241379 0.5344828 1.0000000\n",
       "5 0     0.5172414 0.3850575 1.0000000\n",
       "6 1     0.9310345 0.4252874 0.3333333"
      ]
     },
     "metadata": {},
     "output_type": "display_data"
    }
   ],
   "source": [
    "# Normalise independent variables \n",
    "\n",
    "normalize <- function(x) {\n",
    "return ((x - min(x)) / (max(x) - min(x))) }\n",
    "\n",
    "applc$gre <- normalize(applc$gre)\n",
    "applc$gpa <- normalize(applc$gpa)\n",
    "applc$rank <- normalize(applc$rank)\n",
    "\n",
    "# look at normalised variables\n",
    "\n",
    "head(applc)"
   ]
  },
  {
   "cell_type": "code",
   "execution_count": 28,
   "metadata": {},
   "outputs": [],
   "source": [
    "## split data into train and test (80%, 20%)\n",
    "# Total number of rows in the data\n",
    "\n",
    "n <- nrow(applc)"
   ]
  },
  {
   "cell_type": "code",
   "execution_count": 29,
   "metadata": {},
   "outputs": [
    {
     "name": "stdout",
     "output_type": "stream",
     "text": [
      "'data.frame':\t320 obs. of  4 variables:\n",
      " $ admit: int  0 0 1 0 0 0 0 0 0 1 ...\n",
      " $ gre  : num  0.69 0.828 0.655 0.621 0.828 ...\n",
      " $ gpa  : num  0.615 0.471 0.695 0.69 0.839 ...\n",
      " $ rank : num  0.667 0.333 0.333 1 0.333 ...\n",
      "'data.frame':\t80 obs. of  4 variables:\n",
      " $ admit: int  0 1 1 1 0 0 1 0 0 1 ...\n",
      " $ gre  : num  0.276 1 0.931 0.828 0.966 ...\n",
      " $ gpa  : num  0.776 1 0.425 1 0.925 ...\n",
      " $ rank : num  0.667 0 0.333 0 1 ...\n"
     ]
    }
   ],
   "source": [
    "# Number of rows for the training set (80% of the dataset)\n",
    "n_train <- round(0.80 * n) \n",
    "\n",
    "# Create a vector of indices (80% random sample)\n",
    "\n",
    "set.seed(123)\n",
    "train_indices <- sample(1:n, n_train)\n",
    "\n",
    "# Subset the data to training indices only, to create train set\n",
    "applc_train <- applc[train_indices, ]  \n",
    "  \n",
    "# Exclude the training indices, to create the test set (20% of the dataset)\n",
    "applc_test <- applc[-train_indices, ]\n",
    "\n",
    "str(applc_train)\n",
    "str(applc_test)"
   ]
  },
  {
   "cell_type": "code",
   "execution_count": 6,
   "metadata": {},
   "outputs": [
    {
     "data": {
      "text/plain": [
       "\n",
       "  0   1 \n",
       "216 104 "
      ]
     },
     "metadata": {},
     "output_type": "display_data"
    },
    {
     "data": {
      "image/png": "[encoded data removed]",
      "text/plain": [
       "Plot with title “Class Distribution in Train Set”"
      ]
     },
     "metadata": {
      "image/png": {
       "height": 420,
       "width": 420
      },
      "text/plain": {
       "height": 420,
       "width": 420
      }
     },
     "output_type": "display_data"
    }
   ],
   "source": [
    "# check for class balance in the target \"admit\" of train set\n",
    "# plot a barplot to show class imbalance \n",
    "\n",
    "table(applc_train$admit)\n",
    "barplot(prop.table(table(applc_train$admit)), main = \"Class Distribution in Train Set\")"
   ]
  },
  {
   "cell_type": "code",
   "execution_count": 30,
   "metadata": {},
   "outputs": [
    {
     "name": "stderr",
     "output_type": "stream",
     "text": [
      "Installing package into ‘/home/jupyter/R/x86_64-pc-linux-gnu-library/3.6’\n",
      "(as ‘lib’ is unspecified)\n",
      "\n"
     ]
    },
    {
     "data": {
      "text/plain": [
       "\n",
       "  0   1 \n",
       "167 153 "
      ]
     },
     "metadata": {},
     "output_type": "display_data"
    },
    {
     "data": {
      "text/plain": [
       "     admit             gre              gpa              rank       \n",
       " Min.   :0.0000   Min.   :0.0000   Min.   :0.0000   Min.   :0.0000  \n",
       " 1st Qu.:0.0000   1st Qu.:0.5172   1st Qu.:0.5115   1st Qu.:0.3333  \n",
       " Median :0.0000   Median :0.6552   Median :0.6724   Median :0.3333  \n",
       " Mean   :0.4781   Mean   :0.6503   Mean   :0.6582   Mean   :0.4813  \n",
       " 3rd Qu.:1.0000   3rd Qu.:0.7931   3rd Qu.:0.8132   3rd Qu.:0.6667  \n",
       " Max.   :1.0000   Max.   :1.0000   Max.   :1.0000   Max.   :1.0000  "
      ]
     },
     "metadata": {},
     "output_type": "display_data"
    },
    {
     "data": {
      "image/png": "[encoded data removed]",
      "text/plain": [
       "Plot with title “Class Distribution With Bothsampling”"
      ]
     },
     "metadata": {
      "image/png": {
       "height": 420,
       "width": 420
      },
      "text/plain": {
       "height": 420,
       "width": 420
      }
     },
     "output_type": "display_data"
    }
   ],
   "source": [
    "# use bothsampling method to create balanced classes in target (using train data)\n",
    "\n",
    "#install.packages(\"ROSE\")\n",
    "library(ROSE)\n",
    "\n",
    "boths <- ovun.sample(admit~., data = applc_train, method=\"both\",\n",
    "                     p = 0.5,\n",
    "                     seed = 123,\n",
    "                     N = 320)$data\n",
    "\n",
    "# look at the balanced classes in target \"admit\" (train data)\n",
    "\n",
    "table(boths$admit)\n",
    "summary(boths)\n",
    "barplot(prop.table(table(boths$admit)), main= \"Class Distribution With Bothsampling\")"
   ]
  },
  {
   "cell_type": "markdown",
   "metadata": {},
   "source": [
    "## Building and Training the GBM Model\n"
   ]
  },
  {
   "cell_type": "code",
   "execution_count": 31,
   "metadata": {},
   "outputs": [
    {
     "name": "stderr",
     "output_type": "stream",
     "text": [
      "Installing package into ‘/home/jupyter/R/x86_64-pc-linux-gnu-library/3.6’\n",
      "(as ‘lib’ is unspecified)\n",
      "\n"
     ]
    }
   ],
   "source": [
    "#install.packages(\"gbm\")\n",
    "library(gbm)"
   ]
  },
  {
   "cell_type": "code",
   "execution_count": 32,
   "metadata": {},
   "outputs": [
    {
     "name": "stdout",
     "output_type": "stream",
     "text": [
      "CV: 1 \n",
      "CV: 2 \n",
      "CV: 3 \n",
      "CV: 4 \n",
      "CV: 5 \n",
      "CV: 6 \n",
      "CV: 7 \n",
      "CV: 8 \n",
      "CV: 9 \n",
      "CV: 10 \n",
      "gbm(formula = admit ~ ., distribution = \"bernoulli\", data = boths, \n",
      "    n.trees = 10000, cv.folds = 10, n.cores = 1)\n",
      "A gradient boosted model with bernoulli loss function.\n",
      "10000 iterations were performed.\n",
      "The best cross-validation iteration was 1431.\n",
      "There were 3 predictors of which 3 had non-zero influence.\n"
     ]
    },
    {
     "data": {
      "text/html": [
       "<table>\n",
       "<caption>A data.frame: 3 × 2</caption>\n",
       "<thead>\n",
       "\t<tr><th></th><th scope=col>var</th><th scope=col>rel.inf</th></tr>\n",
       "\t<tr><th></th><th scope=col>&lt;fct&gt;</th><th scope=col>&lt;dbl&gt;</th></tr>\n",
       "</thead>\n",
       "<tbody>\n",
       "\t<tr><th scope=row>gpa</th><td>gpa </td><td>55.30501</td></tr>\n",
       "\t<tr><th scope=row>gre</th><td>gre </td><td>34.02099</td></tr>\n",
       "\t<tr><th scope=row>rank</th><td>rank</td><td>10.67399</td></tr>\n",
       "</tbody>\n",
       "</table>\n"
      ],
      "text/latex": [
       "A data.frame: 3 × 2\n",
       "\\begin{tabular}{r|ll}\n",
       "  & var & rel.inf\\\\\n",
       "  & <fct> & <dbl>\\\\\n",
       "\\hline\n",
       "\tgpa & gpa  & 55.30501\\\\\n",
       "\tgre & gre  & 34.02099\\\\\n",
       "\trank & rank & 10.67399\\\\\n",
       "\\end{tabular}\n"
      ],
      "text/markdown": [
       "\n",
       "A data.frame: 3 × 2\n",
       "\n",
       "| <!--/--> | var &lt;fct&gt; | rel.inf &lt;dbl&gt; |\n",
       "|---|---|---|\n",
       "| gpa | gpa  | 55.30501 |\n",
       "| gre | gre  | 34.02099 |\n",
       "| rank | rank | 10.67399 |\n",
       "\n"
      ],
      "text/plain": [
       "     var  rel.inf \n",
       "gpa  gpa  55.30501\n",
       "gre  gre  34.02099\n",
       "rank rank 10.67399"
      ]
     },
     "metadata": {},
     "output_type": "display_data"
    },
    {
     "data": {
      "image/png": "[encoded data removed]",
      "text/plain": [
       "plot without title"
      ]
     },
     "metadata": {
      "image/png": {
       "height": 420,
       "width": 420
      },
      "text/plain": {
       "height": 420,
       "width": 420
      }
     },
     "output_type": "display_data"
    }
   ],
   "source": [
    "\n",
    "# Train a 10000-tree GBM model\n",
    "set.seed(1)\n",
    "gbm_model <- gbm(formula = admit ~ ., \n",
    "                    distribution = \"bernoulli\", \n",
    "                    data = boths,\n",
    "                    n.trees = 10000,\n",
    "                    cv.folds = 10,\n",
    "                    n.cores = 1)\n",
    "                    \n",
    "# Print the GBM model object                    \n",
    "print(gbm_model)\n",
    "\n",
    "# summary() prints variable importance\n",
    "summary(gbm_model)"
   ]
  },
  {
   "cell_type": "code",
   "execution_count": 33,
   "metadata": {},
   "outputs": [
    {
     "name": "stdout",
     "output_type": "stream",
     "text": [
      "[1] \"Optimal n.trees (CV Estimate): 1431\"\n"
     ]
    },
    {
     "data": {
      "image/png": "[encoded data removed]",
      "text/plain": [
       "plot without title"
      ]
     },
     "metadata": {
      "image/png": {
       "height": 420,
       "width": 420
      },
      "text/plain": {
       "height": 420,
       "width": 420
      }
     },
     "output_type": "display_data"
    }
   ],
   "source": [
    "# Estimate the optimal # of trees based on CV\n",
    "\n",
    "ntree_opt <- gbm.perf(object = gbm_model, \n",
    "                         method = \"cv\")\n",
    " \n",
    "                      \n",
    "print(paste0(\"Optimal n.trees (CV Estimate): \", ntree_opt))"
   ]
  },
  {
   "cell_type": "markdown",
   "metadata": {},
   "source": [
    "\n",
    "## Testing and Evaluating the GBM Performance\n"
   ]
  },
  {
   "cell_type": "code",
   "execution_count": 34,
   "metadata": {},
   "outputs": [
    {
     "name": "stdout",
     "output_type": "stream",
     "text": [
      " [1] 0.069523493 0.860747331 0.983433870 0.713365321 0.865012501 0.104298782\n",
      " [7] 0.658520870 0.705404576 0.017176183 0.592271692 0.291359062 0.627429407\n",
      "[13] 0.061221229 0.465732835 0.068756114 0.045912837 0.221369494 0.597737400\n",
      "[19] 0.766917819 0.634616925 0.427870071 0.135081334 0.888595442 0.649463826\n",
      "[25] 0.035408577 0.039618279 0.981324662 0.708191137 0.146855812 0.109221605\n",
      "[31] 0.384223425 0.445401064 0.471844672 0.061874453 0.411318017 0.751207022\n",
      "[37] 0.167868326 0.661157551 0.004517258 0.489756036 0.226441019 0.473209659\n",
      "[43] 0.364764624 0.217699183 0.773840868 0.363917100 0.563365560 0.019779154\n",
      "[49] 0.038151653 0.356782734 0.915058576 0.544214940 0.854498429 0.593965742\n",
      "[55] 0.147639983 0.710443973 0.240682275 0.368210060 0.843168705 0.581767341\n",
      "[61] 0.626895843 0.677593537 0.062506712 0.160917151 0.155240509 0.747812455\n",
      "[67] 0.029514860 0.310009745 0.253455947 0.046969609 0.262703324 0.317289575\n",
      "[73] 0.667134016 0.295763966 0.503150256 0.354066650 0.353422839 0.269336995\n",
      "[79] 0.794033302 0.809716257\n"
     ]
    }
   ],
   "source": [
    "# Generate predictions (probabilities) on the test set using ntree_opt number of trees\n",
    "\n",
    "gbm_pred_prob <- predict(object = gbm_model, \n",
    "                  newdata = applc_test,\n",
    "                  n.trees = ntree_opt, type = \"response\")\n",
    "\n",
    "print(gbm_pred_prob)\n"
   ]
  },
  {
   "cell_type": "code",
   "execution_count": 35,
   "metadata": {},
   "outputs": [
    {
     "name": "stderr",
     "output_type": "stream",
     "text": [
      "Installing package into ‘/home/jupyter/R/x86_64-pc-linux-gnu-library/3.6’\n",
      "(as ‘lib’ is unspecified)\n",
      "\n"
     ]
    }
   ],
   "source": [
    "#install.packages(\"ROCR\")\n",
    "library(ROCR)"
   ]
  },
  {
   "cell_type": "code",
   "execution_count": 36,
   "metadata": {},
   "outputs": [],
   "source": [
    "library(pROC)\n",
    "library(Metrics)"
   ]
  },
  {
   "cell_type": "code",
   "execution_count": 15,
   "metadata": {},
   "outputs": [
    {
     "name": "stdout",
     "output_type": "stream",
     "text": [
      "[1] \"GBM Test set AUC0.710144927536232\"\n"
     ]
    }
   ],
   "source": [
    "# Generate the AUC of gbm, using the preditions(`actual` must be a binary (or 1/0 numeric) vector)\n",
    "\n",
    "auc_gbm <- auc(actual = applc_test$admit, predicted = gbm_pred_prob)  \n",
    "\n",
    "# print GBM AUC \n",
    "                         \n",
    "print(paste0(\"GBM Test set AUC\", auc_gbm))"
   ]
  },
  {
   "cell_type": "code",
   "execution_count": 70,
   "metadata": {},
   "outputs": [
    {
     "data": {
      "image/png": "[encoded data removed]",
      "text/plain": [
       "Plot with title “GBM Test Set ROC Curve”"
      ]
     },
     "metadata": {
      "image/png": {
       "height": 420,
       "width": 420
      },
      "text/plain": {
       "height": 420,
       "width": 420
      }
     },
     "output_type": "display_data"
    }
   ],
   "source": [
    "# Plot the GBM ROC curve using the predictions (probabilities)\n",
    "\n",
    "pred <- prediction(gbm_pred_prob, applc_test$admit)\n",
    "roc <- performance(pred, \"tpr\", \"fpr\")\n",
    "\n",
    "plot(roc, col = as.list(1), main = \"GBM Test Set ROC Curve\")"
   ]
  },
  {
   "cell_type": "code",
   "execution_count": 17,
   "metadata": {},
   "outputs": [
    {
     "data": {
      "text/html": [
       "<style>\n",
       ".list-inline {list-style: none; margin:0; padding: 0}\n",
       ".list-inline>li {display: inline-block}\n",
       ".list-inline>li:not(:last-child)::after {content: \"\\00b7\"; padding: 0 .5ex}\n",
       "</style>\n",
       "<ol class=list-inline><li>0</li><li>1</li><li>1</li><li>1</li><li>1</li><li>0</li><li>1</li><li>1</li><li>0</li><li>1</li><li>0</li><li>1</li><li>0</li><li>0</li><li>0</li><li>0</li><li>0</li><li>1</li><li>1</li><li>1</li><li>0</li><li>0</li><li>1</li><li>1</li><li>0</li><li>0</li><li>1</li><li>1</li><li>0</li><li>0</li><li>0</li><li>0</li><li>0</li><li>0</li><li>0</li><li>1</li><li>0</li><li>1</li><li>0</li><li>0</li><li>0</li><li>0</li><li>0</li><li>0</li><li>1</li><li>0</li><li>1</li><li>0</li><li>0</li><li>0</li><li>1</li><li>1</li><li>1</li><li>1</li><li>0</li><li>1</li><li>0</li><li>0</li><li>1</li><li>1</li><li>1</li><li>1</li><li>0</li><li>0</li><li>0</li><li>1</li><li>0</li><li>0</li><li>0</li><li>0</li><li>0</li><li>0</li><li>1</li><li>0</li><li>1</li><li>0</li><li>0</li><li>0</li><li>1</li><li>1</li></ol>\n"
      ],
      "text/latex": [
       "\\begin{enumerate*}\n",
       "\\item 0\n",
       "\\item 1\n",
       "\\item 1\n",
       "\\item 1\n",
       "\\item 1\n",
       "\\item 0\n",
       "\\item 1\n",
       "\\item 1\n",
       "\\item 0\n",
       "\\item 1\n",
       "\\item 0\n",
       "\\item 1\n",
       "\\item 0\n",
       "\\item 0\n",
       "\\item 0\n",
       "\\item 0\n",
       "\\item 0\n",
       "\\item 1\n",
       "\\item 1\n",
       "\\item 1\n",
       "\\item 0\n",
       "\\item 0\n",
       "\\item 1\n",
       "\\item 1\n",
       "\\item 0\n",
       "\\item 0\n",
       "\\item 1\n",
       "\\item 1\n",
       "\\item 0\n",
       "\\item 0\n",
       "\\item 0\n",
       "\\item 0\n",
       "\\item 0\n",
       "\\item 0\n",
       "\\item 0\n",
       "\\item 1\n",
       "\\item 0\n",
       "\\item 1\n",
       "\\item 0\n",
       "\\item 0\n",
       "\\item 0\n",
       "\\item 0\n",
       "\\item 0\n",
       "\\item 0\n",
       "\\item 1\n",
       "\\item 0\n",
       "\\item 1\n",
       "\\item 0\n",
       "\\item 0\n",
       "\\item 0\n",
       "\\item 1\n",
       "\\item 1\n",
       "\\item 1\n",
       "\\item 1\n",
       "\\item 0\n",
       "\\item 1\n",
       "\\item 0\n",
       "\\item 0\n",
       "\\item 1\n",
       "\\item 1\n",
       "\\item 1\n",
       "\\item 1\n",
       "\\item 0\n",
       "\\item 0\n",
       "\\item 0\n",
       "\\item 1\n",
       "\\item 0\n",
       "\\item 0\n",
       "\\item 0\n",
       "\\item 0\n",
       "\\item 0\n",
       "\\item 0\n",
       "\\item 1\n",
       "\\item 0\n",
       "\\item 1\n",
       "\\item 0\n",
       "\\item 0\n",
       "\\item 0\n",
       "\\item 1\n",
       "\\item 1\n",
       "\\end{enumerate*}\n"
      ],
      "text/markdown": [
       "1. 0\n",
       "2. 1\n",
       "3. 1\n",
       "4. 1\n",
       "5. 1\n",
       "6. 0\n",
       "7. 1\n",
       "8. 1\n",
       "9. 0\n",
       "10. 1\n",
       "11. 0\n",
       "12. 1\n",
       "13. 0\n",
       "14. 0\n",
       "15. 0\n",
       "16. 0\n",
       "17. 0\n",
       "18. 1\n",
       "19. 1\n",
       "20. 1\n",
       "21. 0\n",
       "22. 0\n",
       "23. 1\n",
       "24. 1\n",
       "25. 0\n",
       "26. 0\n",
       "27. 1\n",
       "28. 1\n",
       "29. 0\n",
       "30. 0\n",
       "31. 0\n",
       "32. 0\n",
       "33. 0\n",
       "34. 0\n",
       "35. 0\n",
       "36. 1\n",
       "37. 0\n",
       "38. 1\n",
       "39. 0\n",
       "40. 0\n",
       "41. 0\n",
       "42. 0\n",
       "43. 0\n",
       "44. 0\n",
       "45. 1\n",
       "46. 0\n",
       "47. 1\n",
       "48. 0\n",
       "49. 0\n",
       "50. 0\n",
       "51. 1\n",
       "52. 1\n",
       "53. 1\n",
       "54. 1\n",
       "55. 0\n",
       "56. 1\n",
       "57. 0\n",
       "58. 0\n",
       "59. 1\n",
       "60. 1\n",
       "61. 1\n",
       "62. 1\n",
       "63. 0\n",
       "64. 0\n",
       "65. 0\n",
       "66. 1\n",
       "67. 0\n",
       "68. 0\n",
       "69. 0\n",
       "70. 0\n",
       "71. 0\n",
       "72. 0\n",
       "73. 1\n",
       "74. 0\n",
       "75. 1\n",
       "76. 0\n",
       "77. 0\n",
       "78. 0\n",
       "79. 1\n",
       "80. 1\n",
       "\n",
       "\n"
      ],
      "text/plain": [
       " [1] 0 1 1 1 1 0 1 1 0 1 0 1 0 0 0 0 0 1 1 1 0 0 1 1 0 0 1 1 0 0 0 0 0 0 0 1 0 1\n",
       "[39] 0 0 0 0 0 0 1 0 1 0 0 0 1 1 1 1 0 1 0 0 1 1 1 1 0 0 0 1 0 0 0 0 0 0 1 0 1 0\n",
       "[77] 0 0 1 1"
      ]
     },
     "metadata": {},
     "output_type": "display_data"
    },
    {
     "data": {
      "text/html": [
       "'numeric'"
      ],
      "text/latex": [
       "'numeric'"
      ],
      "text/markdown": [
       "'numeric'"
      ],
      "text/plain": [
       "[1] \"numeric\""
      ]
     },
     "metadata": {},
     "output_type": "display_data"
    },
    {
     "data": {
      "text/html": [
       "'numeric'"
      ],
      "text/latex": [
       "'numeric'"
      ],
      "text/markdown": [
       "'numeric'"
      ],
      "text/plain": [
       "[1] \"numeric\""
      ]
     },
     "metadata": {},
     "output_type": "display_data"
    }
   ],
   "source": [
    "# Convert probabilities into binary classes (0, 1) with threshold level = 0.5\n",
    "\n",
    "prob <- gbm_pred_prob\n",
    "gbm_pred <- ifelse(prob > 0.5, 1, 0)\n",
    "\n",
    "gbm_pred\n",
    "class(gbm_pred)\n",
    "class(as.numeric(applc_test$admit))"
   ]
  },
  {
   "cell_type": "code",
   "execution_count": 19,
   "metadata": {},
   "outputs": [
    {
     "name": "stderr",
     "output_type": "stream",
     "text": [
      "Installing package into ‘/home/jupyter/R/x86_64-pc-linux-gnu-library/3.6’\n",
      "(as ‘lib’ is unspecified)\n",
      "\n",
      "Loading required package: lattice\n",
      "\n",
      "Loading required package: ggplot2\n",
      "\n",
      "\n",
      "Attaching package: ‘caret’\n",
      "\n",
      "\n",
      "The following objects are masked from ‘package:Metrics’:\n",
      "\n",
      "    precision, recall\n",
      "\n",
      "\n"
     ]
    }
   ],
   "source": [
    "#install.packages('caret', dependencies = TRUE)\n",
    "library(caret)"
   ]
  },
  {
   "cell_type": "code",
   "execution_count": 20,
   "metadata": {},
   "outputs": [],
   "source": [
    "library(lattice)\n",
    "library(ggplot2)"
   ]
  },
  {
   "cell_type": "code",
   "execution_count": 21,
   "metadata": {},
   "outputs": [
    {
     "name": "stdout",
     "output_type": "stream",
     "text": [
      "Confusion Matrix and Statistics\n",
      "\n",
      "          Reference\n",
      "Prediction  0  1\n",
      "         0 40  7\n",
      "         1 17 16\n",
      "                                          \n",
      "               Accuracy : 0.7             \n",
      "                 95% CI : (0.5872, 0.7974)\n",
      "    No Information Rate : 0.7125          \n",
      "    P-Value [Acc > NIR] : 0.65001         \n",
      "                                          \n",
      "                  Kappa : 0.3518          \n",
      "                                          \n",
      " Mcnemar's Test P-Value : 0.06619         \n",
      "                                          \n",
      "            Sensitivity : 0.7018          \n",
      "            Specificity : 0.6957          \n",
      "         Pos Pred Value : 0.8511          \n",
      "         Neg Pred Value : 0.4848          \n",
      "             Prevalence : 0.7125          \n",
      "         Detection Rate : 0.5000          \n",
      "   Detection Prevalence : 0.5875          \n",
      "      Balanced Accuracy : 0.6987          \n",
      "                                          \n",
      "       'Positive' Class : 0               \n",
      "                                          \n"
     ]
    }
   ],
   "source": [
    "# Measure GBM performance using the confusion matrix and the test set (convert to factor)\n",
    "\n",
    "cm <- confusionMatrix(data = as.factor(gbm_pred),       \n",
    "                reference = as.factor(applc_test$admit))\n",
    "\n",
    "print(cm)"
   ]
  },
  {
   "cell_type": "code",
   "execution_count": 35,
   "metadata": {},
   "outputs": [
    {
     "name": "stderr",
     "output_type": "stream",
     "text": [
      "\n",
      "Attaching package: ‘dplyr’\n",
      "\n",
      "\n",
      "The following objects are masked from ‘package:stats’:\n",
      "\n",
      "    filter, lag\n",
      "\n",
      "\n",
      "The following objects are masked from ‘package:base’:\n",
      "\n",
      "    intersect, setdiff, setequal, union\n",
      "\n",
      "\n"
     ]
    },
    {
     "data": {
      "image/png": "[encoded data removed]",
      "text/plain": [
       "plot without title"
      ]
     },
     "metadata": {
      "image/png": {
       "height": 420,
       "width": 420
      },
      "text/plain": {
       "height": 420,
       "width": 420
      }
     },
     "output_type": "display_data"
    }
   ],
   "source": [
    "# Plot the confusion Matrix for GBM performance\n",
    "\n",
    "library(dplyr)\n",
    "\n",
    "ggplot(as.data.frame(cm$table), aes(Prediction,sort(Reference,decreasing = F), fill= Freq)) +\n",
    "        geom_tile() + geom_text(aes(label=Freq)) +\n",
    "        scale_fill_gradient(low=\"white\", high=\"#009194\") +\n",
    "        labs(x = \"Prediction\",y = \"Reference\")"
   ]
  },
  {
   "cell_type": "code",
   "execution_count": null,
   "metadata": {},
   "outputs": [],
   "source": []
  },
  {
   "cell_type": "code",
   "execution_count": null,
   "metadata": {},
   "outputs": [],
   "source": []
  }
 ],
 "metadata": {
  "kernelspec": {
   "display_name": "R",
   "language": "R",
   "name": "ir"
  },
  "language_info": {
   "codemirror_mode": "r",
   "file_extension": ".r",
   "mimetype": "text/x-r-source",
   "name": "R",
   "pygments_lexer": "r",
   "version": "3.6.2"
  }
 },
 "nbformat": 4,
 "nbformat_minor": 4
}
